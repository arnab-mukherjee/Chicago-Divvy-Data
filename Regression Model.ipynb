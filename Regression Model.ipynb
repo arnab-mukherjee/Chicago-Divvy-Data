{
 "cells": [
  {
   "cell_type": "code",
   "execution_count": 66,
   "metadata": {
    "collapsed": true
   },
   "outputs": [],
   "source": [
    "import pandas as pd\n",
    "import numpy as np\n",
    "%matplotlib inline\n",
    "import matplotlib.pyplot as plt"
   ]
  },
  {
   "cell_type": "markdown",
   "metadata": {},
   "source": [
    "## Import Dataset"
   ]
  },
  {
   "cell_type": "code",
   "execution_count": 67,
   "metadata": {},
   "outputs": [
    {
     "data": {
      "text/html": [
       "<div>\n",
       "<style>\n",
       "    .dataframe thead tr:only-child th {\n",
       "        text-align: right;\n",
       "    }\n",
       "\n",
       "    .dataframe thead th {\n",
       "        text-align: left;\n",
       "    }\n",
       "\n",
       "    .dataframe tbody tr th {\n",
       "        vertical-align: top;\n",
       "    }\n",
       "</style>\n",
       "<table border=\"1\" class=\"dataframe\">\n",
       "  <thead>\n",
       "    <tr style=\"text-align: right;\">\n",
       "      <th></th>\n",
       "      <th>start_time</th>\n",
       "      <th>end_time</th>\n",
       "      <th>bikeid</th>\n",
       "      <th>tripduration</th>\n",
       "      <th>from_station_id</th>\n",
       "      <th>from_station_name</th>\n",
       "      <th>to_station_id</th>\n",
       "      <th>to_station_name</th>\n",
       "      <th>usertype</th>\n",
       "      <th>gender</th>\n",
       "      <th>birthyear</th>\n",
       "      <th>trip_id</th>\n",
       "    </tr>\n",
       "  </thead>\n",
       "  <tbody>\n",
       "    <tr>\n",
       "      <th>0</th>\n",
       "      <td>3/31/2017 23:59:07</td>\n",
       "      <td>4/1/2017 00:13:24</td>\n",
       "      <td>5292.0</td>\n",
       "      <td>857.0</td>\n",
       "      <td>66.0</td>\n",
       "      <td>Clinton St &amp; Lake St</td>\n",
       "      <td>171.0</td>\n",
       "      <td>May St &amp; Cullerton St</td>\n",
       "      <td>Subscriber</td>\n",
       "      <td>Male</td>\n",
       "      <td>1989.0</td>\n",
       "      <td>13518905.0</td>\n",
       "    </tr>\n",
       "    <tr>\n",
       "      <th>1</th>\n",
       "      <td>3/31/2017 23:56:25</td>\n",
       "      <td>4/1/2017 00:00:21</td>\n",
       "      <td>4408.0</td>\n",
       "      <td>236.0</td>\n",
       "      <td>199.0</td>\n",
       "      <td>Wabash Ave &amp; Grand Ave</td>\n",
       "      <td>26.0</td>\n",
       "      <td>McClurg Ct &amp; Illinois St</td>\n",
       "      <td>Subscriber</td>\n",
       "      <td>Male</td>\n",
       "      <td>1990.0</td>\n",
       "      <td>13518904.0</td>\n",
       "    </tr>\n",
       "    <tr>\n",
       "      <th>2</th>\n",
       "      <td>3/31/2017 23:55:33</td>\n",
       "      <td>4/1/2017 00:01:21</td>\n",
       "      <td>696.0</td>\n",
       "      <td>348.0</td>\n",
       "      <td>520.0</td>\n",
       "      <td>Greenview Ave &amp; Jarvis Ave</td>\n",
       "      <td>432.0</td>\n",
       "      <td>Clark St &amp; Lunt Ave</td>\n",
       "      <td>Subscriber</td>\n",
       "      <td>Female</td>\n",
       "      <td>1979.0</td>\n",
       "      <td>13518903.0</td>\n",
       "    </tr>\n",
       "    <tr>\n",
       "      <th>3</th>\n",
       "      <td>3/31/2017 23:54:46</td>\n",
       "      <td>3/31/2017 23:59:34</td>\n",
       "      <td>4915.0</td>\n",
       "      <td>288.0</td>\n",
       "      <td>110.0</td>\n",
       "      <td>Dearborn St &amp; Erie St</td>\n",
       "      <td>142.0</td>\n",
       "      <td>McClurg Ct &amp; Erie St</td>\n",
       "      <td>Subscriber</td>\n",
       "      <td>Male</td>\n",
       "      <td>1985.0</td>\n",
       "      <td>13518902.0</td>\n",
       "    </tr>\n",
       "    <tr>\n",
       "      <th>4</th>\n",
       "      <td>3/31/2017 23:53:33</td>\n",
       "      <td>4/1/2017 00:00:28</td>\n",
       "      <td>4247.0</td>\n",
       "      <td>415.0</td>\n",
       "      <td>327.0</td>\n",
       "      <td>Sheffield Ave &amp; Webster Ave</td>\n",
       "      <td>331.0</td>\n",
       "      <td>Halsted St &amp; Blackhawk St (*)</td>\n",
       "      <td>Subscriber</td>\n",
       "      <td>Female</td>\n",
       "      <td>1989.0</td>\n",
       "      <td>13518901.0</td>\n",
       "    </tr>\n",
       "  </tbody>\n",
       "</table>\n",
       "</div>"
      ],
      "text/plain": [
       "           start_time            end_time  bikeid  tripduration  \\\n",
       "0  3/31/2017 23:59:07   4/1/2017 00:13:24  5292.0         857.0   \n",
       "1  3/31/2017 23:56:25   4/1/2017 00:00:21  4408.0         236.0   \n",
       "2  3/31/2017 23:55:33   4/1/2017 00:01:21   696.0         348.0   \n",
       "3  3/31/2017 23:54:46  3/31/2017 23:59:34  4915.0         288.0   \n",
       "4  3/31/2017 23:53:33   4/1/2017 00:00:28  4247.0         415.0   \n",
       "\n",
       "   from_station_id            from_station_name  to_station_id  \\\n",
       "0             66.0         Clinton St & Lake St          171.0   \n",
       "1            199.0       Wabash Ave & Grand Ave           26.0   \n",
       "2            520.0   Greenview Ave & Jarvis Ave          432.0   \n",
       "3            110.0        Dearborn St & Erie St          142.0   \n",
       "4            327.0  Sheffield Ave & Webster Ave          331.0   \n",
       "\n",
       "                 to_station_name    usertype  gender  birthyear     trip_id  \n",
       "0          May St & Cullerton St  Subscriber    Male     1989.0  13518905.0  \n",
       "1       McClurg Ct & Illinois St  Subscriber    Male     1990.0  13518904.0  \n",
       "2            Clark St & Lunt Ave  Subscriber  Female     1979.0  13518903.0  \n",
       "3           McClurg Ct & Erie St  Subscriber    Male     1985.0  13518902.0  \n",
       "4  Halsted St & Blackhawk St (*)  Subscriber  Female     1989.0  13518901.0  "
      ]
     },
     "execution_count": 67,
     "metadata": {},
     "output_type": "execute_result"
    }
   ],
   "source": [
    "dataset = pd.read_csv(\"divvytrips.csv\")\n",
    "dataset.head()"
   ]
  },
  {
   "cell_type": "markdown",
   "metadata": {},
   "source": [
    "## Detect and Delete Missing Values"
   ]
  },
  {
   "cell_type": "code",
   "execution_count": 68,
   "metadata": {},
   "outputs": [
    {
     "data": {
      "text/plain": [
       "633550"
      ]
     },
     "execution_count": 68,
     "metadata": {},
     "output_type": "execute_result"
    }
   ],
   "source": [
    "sum(dataset.isnull().values.ravel())"
   ]
  },
  {
   "cell_type": "code",
   "execution_count": 69,
   "metadata": {},
   "outputs": [
    {
     "name": "stdout",
     "output_type": "stream",
     "text": [
      "<class 'pandas.core.frame.DataFrame'>\n",
      "RangeIndex: 1551505 entries, 0 to 1551504\n",
      "Data columns (total 12 columns):\n",
      "start_time           1551505 non-null object\n",
      "end_time             1551505 non-null object\n",
      "bikeid               1551505 non-null float64\n",
      "tripduration         1551505 non-null float64\n",
      "from_station_id      1551505 non-null float64\n",
      "from_station_name    1551505 non-null object\n",
      "to_station_id        1551505 non-null float64\n",
      "to_station_name      1551505 non-null object\n",
      "usertype             1551505 non-null object\n",
      "gender               1234638 non-null object\n",
      "birthyear            1234822 non-null float64\n",
      "trip_id              1551505 non-null float64\n",
      "dtypes: float64(6), object(6)\n",
      "memory usage: 142.0+ MB\n"
     ]
    }
   ],
   "source": [
    "dataset.info()\n",
    "#gender and birthyear have missing values"
   ]
  },
  {
   "cell_type": "code",
   "execution_count": 70,
   "metadata": {
    "collapsed": true
   },
   "outputs": [],
   "source": [
    "dataset = dataset.dropna()"
   ]
  },
  {
   "cell_type": "code",
   "execution_count": 71,
   "metadata": {},
   "outputs": [
    {
     "name": "stdout",
     "output_type": "stream",
     "text": [
      "<class 'pandas.core.frame.DataFrame'>\n",
      "Int64Index: 1234638 entries, 0 to 1551504\n",
      "Data columns (total 12 columns):\n",
      "start_time           1234638 non-null object\n",
      "end_time             1234638 non-null object\n",
      "bikeid               1234638 non-null float64\n",
      "tripduration         1234638 non-null float64\n",
      "from_station_id      1234638 non-null float64\n",
      "from_station_name    1234638 non-null object\n",
      "to_station_id        1234638 non-null float64\n",
      "to_station_name      1234638 non-null object\n",
      "usertype             1234638 non-null object\n",
      "gender               1234638 non-null object\n",
      "birthyear            1234638 non-null float64\n",
      "trip_id              1234638 non-null float64\n",
      "dtypes: float64(6), object(6)\n",
      "memory usage: 122.5+ MB\n"
     ]
    }
   ],
   "source": [
    "dataset.info()"
   ]
  },
  {
   "cell_type": "markdown",
   "metadata": {},
   "source": [
    "## Reduce Dataset to 35000 rows "
   ]
  },
  {
   "cell_type": "code",
   "execution_count": 72,
   "metadata": {},
   "outputs": [
    {
     "name": "stdout",
     "output_type": "stream",
     "text": [
      "<class 'pandas.core.frame.DataFrame'>\n",
      "Int64Index: 35000 entries, 0 to 39165\n",
      "Data columns (total 12 columns):\n",
      "start_time           35000 non-null object\n",
      "end_time             35000 non-null object\n",
      "bikeid               35000 non-null float64\n",
      "tripduration         35000 non-null float64\n",
      "from_station_id      35000 non-null float64\n",
      "from_station_name    35000 non-null object\n",
      "to_station_id        35000 non-null float64\n",
      "to_station_name      35000 non-null object\n",
      "usertype             35000 non-null object\n",
      "gender               35000 non-null object\n",
      "birthyear            35000 non-null float64\n",
      "trip_id              35000 non-null float64\n",
      "dtypes: float64(6), object(6)\n",
      "memory usage: 3.5+ MB\n"
     ]
    }
   ],
   "source": [
    "dataset = dataset.drop(dataset.index[range(35000,1234638)])\n",
    "dataset.info()"
   ]
  },
  {
   "cell_type": "markdown",
   "metadata": {},
   "source": [
    "## Graph 1: Birth Year Frequency Distribution"
   ]
  },
  {
   "cell_type": "code",
   "execution_count": 73,
   "metadata": {},
   "outputs": [
    {
     "data": {
      "image/png": "[encoded data removed]",
      "text/plain": [
       "<matplotlib.figure.Figure at 0x21c0a392780>"
      ]
     },
     "metadata": {},
     "output_type": "display_data"
    }
   ],
   "source": [
    "plt.subplots(figsize=(20,8))\n",
    "plt.hist(dataset['birthyear'], bins=np.arange(dataset['birthyear'].min(), dataset['birthyear'].max()+1))\n",
    "plt.title('Birth Year Frequency Distribution',size=15)\n",
    "plt.xlabel('Birth Years', size=15)\n",
    "plt.ylabel('Frequency', size=15)\n",
    "plt.show()"
   ]
  },
  {
   "cell_type": "markdown",
   "metadata": {},
   "source": [
    "## Graph 2: Male to Female Ratio Pie Chart"
   ]
  },
  {
   "cell_type": "code",
   "execution_count": 74,
   "metadata": {
    "collapsed": true
   },
   "outputs": [],
   "source": [
    "sums = dataset.gender.groupby(dataset.gender).count()"
   ]
  },
  {
   "cell_type": "code",
   "execution_count": 75,
   "metadata": {},
   "outputs": [
    {
     "data": {
      "text/plain": [
       "gender\n",
       "Female     7293\n",
       "Male      27707\n",
       "Name: gender, dtype: int64"
      ]
     },
     "execution_count": 75,
     "metadata": {},
     "output_type": "execute_result"
    }
   ],
   "source": [
    "sums"
   ]
  },
  {
   "cell_type": "code",
   "execution_count": 76,
   "metadata": {},
   "outputs": [
    {
     "data": {
      "image/png": "[encoded data removed]",
      "text/plain": [
       "<matplotlib.figure.Figure at 0x21c0b6ef198>"
      ]
     },
     "metadata": {},
     "output_type": "display_data"
    }
   ],
   "source": [
    "plt.axis('equal');\n",
    "plt.pie(sums, labels=sums.index, autopct='%1.1f%%')\n",
    "plt.title('Male to Female Ratio',size=15)\n",
    "plt.show()"
   ]
  },
  {
   "cell_type": "markdown",
   "metadata": {},
   "source": [
    "## Graph 3: Genderwise Average Trip Duration"
   ]
  },
  {
   "cell_type": "code",
   "execution_count": 77,
   "metadata": {
    "scrolled": true
   },
   "outputs": [
    {
     "data": {
      "image/png": "[encoded data removed]",
      "text/plain": [
       "<matplotlib.figure.Figure at 0x21c3ee5c898>"
      ]
     },
     "metadata": {},
     "output_type": "display_data"
    }
   ],
   "source": [
    "avgdist = dataset['tripduration'].groupby(dataset.gender).aggregate(np.mean).plot('bar')\n",
    "plt.title('Genderwise Average Trip Duration')\n",
    "plt.xlabel('Gender', size=15)\n",
    "plt.ylabel('Average Trip Duration',size=15)\n",
    "plt.xticks(size=10)\n",
    "plt.show()"
   ]
  },
  {
   "cell_type": "markdown",
   "metadata": {},
   "source": [
    "## Graph 4: Age Frequency Distribution"
   ]
  },
  {
   "cell_type": "code",
   "execution_count": 78,
   "metadata": {
    "collapsed": true
   },
   "outputs": [],
   "source": [
    "dataset['Age'] = 2017 - dataset['birthyear']"
   ]
  },
  {
   "cell_type": "code",
   "execution_count": 79,
   "metadata": {},
   "outputs": [
    {
     "data": {
      "image/png": "[encoded data removed]",
      "text/plain": [
       "<matplotlib.figure.Figure at 0x21c09ee8748>"
      ]
     },
     "metadata": {},
     "output_type": "display_data"
    }
   ],
   "source": [
    "plt.subplots(figsize=(25,8))\n",
    "agedist = dataset['tripduration'].groupby(dataset.Age).aggregate(np.mean).plot('bar')\n",
    "plt.title('Age vs Average Travel Duration',size=15)\n",
    "plt.xlabel('Age', size=15)\n",
    "plt.ylabel('Average Travel Duration',size=15)\n",
    "plt.show()"
   ]
  },
  {
   "cell_type": "markdown",
   "metadata": {},
   "source": [
    "## Graph 5: Scatterplot for Tripduration"
   ]
  },
  {
   "cell_type": "code",
   "execution_count": 80,
   "metadata": {},
   "outputs": [
    {
     "data": {
      "image/png": "[encoded data removed]",
      "text/plain": [
       "<matplotlib.figure.Figure at 0x21c0a271438>"
      ]
     },
     "metadata": {},
     "output_type": "display_data"
    }
   ],
   "source": [
    "plt.subplots(figsize=(20,8))\n",
    "plt.scatter(dataset['trip_id'],dataset['tripduration'])\n",
    "plt.xticks([])\n",
    "plt.ylabel('Trip Duration',size=15)\n",
    "plt.title('Trip Duration Scatter Plot',size=15)\n",
    "plt.show()"
   ]
  },
  {
   "cell_type": "markdown",
   "metadata": {},
   "source": [
    "## Graph 6: Top 5 Destinations "
   ]
  },
  {
   "cell_type": "code",
   "execution_count": 81,
   "metadata": {},
   "outputs": [
    {
     "data": {
      "image/png": "[encoded data removed]",
      "text/plain": [
       "<matplotlib.figure.Figure at 0x21c0b67f438>"
      ]
     },
     "metadata": {},
     "output_type": "display_data"
    }
   ],
   "source": [
    "plt.subplots(figsize=(20,8))\n",
    "sname = dataset['to_station_name'].groupby(dataset['to_station_name']).count()\n",
    "sname = sname.sort_values(ascending=False)\n",
    "plt.xlabel('Frequency',size=15)\n",
    "plt.ylabel('Destination Station Location',size=15)\n",
    "plt.title('Top 5 Destination Locations',size=15)\n",
    "sname.head(5).plot('barh')\n",
    "plt.show()"
   ]
  },
  {
   "cell_type": "markdown",
   "metadata": {},
   "source": [
    "## Feature Engineering"
   ]
  },
  {
   "cell_type": "markdown",
   "metadata": {},
   "source": [
    "### Split Date and Time"
   ]
  },
  {
   "cell_type": "code",
   "execution_count": 82,
   "metadata": {
    "collapsed": true
   },
   "outputs": [],
   "source": [
    "from dateutil.parser import parse"
   ]
  },
  {
   "cell_type": "code",
   "execution_count": 83,
   "metadata": {
    "collapsed": true
   },
   "outputs": [],
   "source": [
    "m = []\n",
    "h = []\n",
    "d = []\n",
    "\n",
    "for i in dataset.start_time:\n",
    "    m.append(parse(i).month)\n",
    "    h.append(parse(i).hour)\n",
    "    d.append(parse(i).day)"
   ]
  },
  {
   "cell_type": "code",
   "execution_count": 84,
   "metadata": {
    "collapsed": true
   },
   "outputs": [],
   "source": [
    "dataset['start_month'] = m\n",
    "dataset['start_day'] = d\n",
    "dataset['start_hour'] = h"
   ]
  },
  {
   "cell_type": "code",
   "execution_count": 85,
   "metadata": {},
   "outputs": [
    {
     "data": {
      "text/html": [
       "<div>\n",
       "<style>\n",
       "    .dataframe thead tr:only-child th {\n",
       "        text-align: right;\n",
       "    }\n",
       "\n",
       "    .dataframe thead th {\n",
       "        text-align: left;\n",
       "    }\n",
       "\n",
       "    .dataframe tbody tr th {\n",
       "        vertical-align: top;\n",
       "    }\n",
       "</style>\n",
       "<table border=\"1\" class=\"dataframe\">\n",
       "  <thead>\n",
       "    <tr style=\"text-align: right;\">\n",
       "      <th></th>\n",
       "      <th>start_time</th>\n",
       "      <th>end_time</th>\n",
       "      <th>bikeid</th>\n",
       "      <th>tripduration</th>\n",
       "      <th>from_station_id</th>\n",
       "      <th>from_station_name</th>\n",
       "      <th>to_station_id</th>\n",
       "      <th>to_station_name</th>\n",
       "      <th>usertype</th>\n",
       "      <th>gender</th>\n",
       "      <th>birthyear</th>\n",
       "      <th>trip_id</th>\n",
       "      <th>Age</th>\n",
       "      <th>start_month</th>\n",
       "      <th>start_day</th>\n",
       "      <th>start_hour</th>\n",
       "    </tr>\n",
       "  </thead>\n",
       "  <tbody>\n",
       "    <tr>\n",
       "      <th>0</th>\n",
       "      <td>3/31/2017 23:59:07</td>\n",
       "      <td>4/1/2017 00:13:24</td>\n",
       "      <td>5292.0</td>\n",
       "      <td>857.0</td>\n",
       "      <td>66.0</td>\n",
       "      <td>Clinton St &amp; Lake St</td>\n",
       "      <td>171.0</td>\n",
       "      <td>May St &amp; Cullerton St</td>\n",
       "      <td>Subscriber</td>\n",
       "      <td>Male</td>\n",
       "      <td>1989.0</td>\n",
       "      <td>13518905.0</td>\n",
       "      <td>28.0</td>\n",
       "      <td>3</td>\n",
       "      <td>31</td>\n",
       "      <td>23</td>\n",
       "    </tr>\n",
       "    <tr>\n",
       "      <th>1</th>\n",
       "      <td>3/31/2017 23:56:25</td>\n",
       "      <td>4/1/2017 00:00:21</td>\n",
       "      <td>4408.0</td>\n",
       "      <td>236.0</td>\n",
       "      <td>199.0</td>\n",
       "      <td>Wabash Ave &amp; Grand Ave</td>\n",
       "      <td>26.0</td>\n",
       "      <td>McClurg Ct &amp; Illinois St</td>\n",
       "      <td>Subscriber</td>\n",
       "      <td>Male</td>\n",
       "      <td>1990.0</td>\n",
       "      <td>13518904.0</td>\n",
       "      <td>27.0</td>\n",
       "      <td>3</td>\n",
       "      <td>31</td>\n",
       "      <td>23</td>\n",
       "    </tr>\n",
       "    <tr>\n",
       "      <th>2</th>\n",
       "      <td>3/31/2017 23:55:33</td>\n",
       "      <td>4/1/2017 00:01:21</td>\n",
       "      <td>696.0</td>\n",
       "      <td>348.0</td>\n",
       "      <td>520.0</td>\n",
       "      <td>Greenview Ave &amp; Jarvis Ave</td>\n",
       "      <td>432.0</td>\n",
       "      <td>Clark St &amp; Lunt Ave</td>\n",
       "      <td>Subscriber</td>\n",
       "      <td>Female</td>\n",
       "      <td>1979.0</td>\n",
       "      <td>13518903.0</td>\n",
       "      <td>38.0</td>\n",
       "      <td>3</td>\n",
       "      <td>31</td>\n",
       "      <td>23</td>\n",
       "    </tr>\n",
       "    <tr>\n",
       "      <th>3</th>\n",
       "      <td>3/31/2017 23:54:46</td>\n",
       "      <td>3/31/2017 23:59:34</td>\n",
       "      <td>4915.0</td>\n",
       "      <td>288.0</td>\n",
       "      <td>110.0</td>\n",
       "      <td>Dearborn St &amp; Erie St</td>\n",
       "      <td>142.0</td>\n",
       "      <td>McClurg Ct &amp; Erie St</td>\n",
       "      <td>Subscriber</td>\n",
       "      <td>Male</td>\n",
       "      <td>1985.0</td>\n",
       "      <td>13518902.0</td>\n",
       "      <td>32.0</td>\n",
       "      <td>3</td>\n",
       "      <td>31</td>\n",
       "      <td>23</td>\n",
       "    </tr>\n",
       "    <tr>\n",
       "      <th>4</th>\n",
       "      <td>3/31/2017 23:53:33</td>\n",
       "      <td>4/1/2017 00:00:28</td>\n",
       "      <td>4247.0</td>\n",
       "      <td>415.0</td>\n",
       "      <td>327.0</td>\n",
       "      <td>Sheffield Ave &amp; Webster Ave</td>\n",
       "      <td>331.0</td>\n",
       "      <td>Halsted St &amp; Blackhawk St (*)</td>\n",
       "      <td>Subscriber</td>\n",
       "      <td>Female</td>\n",
       "      <td>1989.0</td>\n",
       "      <td>13518901.0</td>\n",
       "      <td>28.0</td>\n",
       "      <td>3</td>\n",
       "      <td>31</td>\n",
       "      <td>23</td>\n",
       "    </tr>\n",
       "  </tbody>\n",
       "</table>\n",
       "</div>"
      ],
      "text/plain": [
       "           start_time            end_time  bikeid  tripduration  \\\n",
       "0  3/31/2017 23:59:07   4/1/2017 00:13:24  5292.0         857.0   \n",
       "1  3/31/2017 23:56:25   4/1/2017 00:00:21  4408.0         236.0   \n",
       "2  3/31/2017 23:55:33   4/1/2017 00:01:21   696.0         348.0   \n",
       "3  3/31/2017 23:54:46  3/31/2017 23:59:34  4915.0         288.0   \n",
       "4  3/31/2017 23:53:33   4/1/2017 00:00:28  4247.0         415.0   \n",
       "\n",
       "   from_station_id            from_station_name  to_station_id  \\\n",
       "0             66.0         Clinton St & Lake St          171.0   \n",
       "1            199.0       Wabash Ave & Grand Ave           26.0   \n",
       "2            520.0   Greenview Ave & Jarvis Ave          432.0   \n",
       "3            110.0        Dearborn St & Erie St          142.0   \n",
       "4            327.0  Sheffield Ave & Webster Ave          331.0   \n",
       "\n",
       "                 to_station_name    usertype  gender  birthyear     trip_id  \\\n",
       "0          May St & Cullerton St  Subscriber    Male     1989.0  13518905.0   \n",
       "1       McClurg Ct & Illinois St  Subscriber    Male     1990.0  13518904.0   \n",
       "2            Clark St & Lunt Ave  Subscriber  Female     1979.0  13518903.0   \n",
       "3           McClurg Ct & Erie St  Subscriber    Male     1985.0  13518902.0   \n",
       "4  Halsted St & Blackhawk St (*)  Subscriber  Female     1989.0  13518901.0   \n",
       "\n",
       "    Age  start_month  start_day  start_hour  \n",
       "0  28.0            3         31          23  \n",
       "1  27.0            3         31          23  \n",
       "2  38.0            3         31          23  \n",
       "3  32.0            3         31          23  \n",
       "4  28.0            3         31          23  "
      ]
     },
     "execution_count": 85,
     "metadata": {},
     "output_type": "execute_result"
    }
   ],
   "source": [
    "dataset.head()"
   ]
  },
  {
   "cell_type": "markdown",
   "metadata": {},
   "source": [
    "### Non-numerical to Numerical Data"
   ]
  },
  {
   "cell_type": "code",
   "execution_count": 86,
   "metadata": {
    "collapsed": true
   },
   "outputs": [],
   "source": [
    "#Function to convert Non-numerical to Numerical Data\n",
    "\n",
    "def handle_non_numerical_data(df):\n",
    "    columns = df.columns.values\n",
    "    for column in columns:\n",
    "        text_digit_vals = {} \n",
    "        def convert_to_int(val):\n",
    "            return text_digit_vals[val]\n",
    "        \n",
    "        if df[column].dtype != np.int64 and df[column].dtype != np.float64:\n",
    "            column_contents = df[column].values.tolist()\n",
    "            unique_elements = set(column_contents)\n",
    "            x=0\n",
    "            for unique in unique_elements:\n",
    "                if unique not in text_digit_vals:\n",
    "                    text_digit_vals[unique] = x\n",
    "                    x = x + 1\n",
    "            \n",
    "            df[column] = list(map(convert_to_int, df[column]))\n",
    "    \n",
    "    return df\n",
    "\n",
    "df = dataset\n",
    "df = handle_non_numerical_data(df)"
   ]
  },
  {
   "cell_type": "code",
   "execution_count": 87,
   "metadata": {},
   "outputs": [
    {
     "data": {
      "text/html": [
       "<div>\n",
       "<style>\n",
       "    .dataframe thead tr:only-child th {\n",
       "        text-align: right;\n",
       "    }\n",
       "\n",
       "    .dataframe thead th {\n",
       "        text-align: left;\n",
       "    }\n",
       "\n",
       "    .dataframe tbody tr th {\n",
       "        vertical-align: top;\n",
       "    }\n",
       "</style>\n",
       "<table border=\"1\" class=\"dataframe\">\n",
       "  <thead>\n",
       "    <tr style=\"text-align: right;\">\n",
       "      <th></th>\n",
       "      <th>start_time</th>\n",
       "      <th>end_time</th>\n",
       "      <th>bikeid</th>\n",
       "      <th>tripduration</th>\n",
       "      <th>from_station_id</th>\n",
       "      <th>from_station_name</th>\n",
       "      <th>to_station_id</th>\n",
       "      <th>to_station_name</th>\n",
       "      <th>usertype</th>\n",
       "      <th>gender</th>\n",
       "      <th>birthyear</th>\n",
       "      <th>trip_id</th>\n",
       "      <th>Age</th>\n",
       "      <th>start_month</th>\n",
       "      <th>start_day</th>\n",
       "      <th>start_hour</th>\n",
       "    </tr>\n",
       "  </thead>\n",
       "  <tbody>\n",
       "    <tr>\n",
       "      <th>0</th>\n",
       "      <td>4166</td>\n",
       "      <td>17098</td>\n",
       "      <td>5292.0</td>\n",
       "      <td>857.0</td>\n",
       "      <td>66.0</td>\n",
       "      <td>117</td>\n",
       "      <td>171.0</td>\n",
       "      <td>259</td>\n",
       "      <td>1</td>\n",
       "      <td>1</td>\n",
       "      <td>1989.0</td>\n",
       "      <td>13518905.0</td>\n",
       "      <td>28.0</td>\n",
       "      <td>3</td>\n",
       "      <td>31</td>\n",
       "      <td>23</td>\n",
       "    </tr>\n",
       "    <tr>\n",
       "      <th>1</th>\n",
       "      <td>23153</td>\n",
       "      <td>30559</td>\n",
       "      <td>4408.0</td>\n",
       "      <td>236.0</td>\n",
       "      <td>199.0</td>\n",
       "      <td>158</td>\n",
       "      <td>26.0</td>\n",
       "      <td>284</td>\n",
       "      <td>1</td>\n",
       "      <td>1</td>\n",
       "      <td>1990.0</td>\n",
       "      <td>13518904.0</td>\n",
       "      <td>27.0</td>\n",
       "      <td>3</td>\n",
       "      <td>31</td>\n",
       "      <td>23</td>\n",
       "    </tr>\n",
       "    <tr>\n",
       "      <th>2</th>\n",
       "      <td>23668</td>\n",
       "      <td>17061</td>\n",
       "      <td>696.0</td>\n",
       "      <td>348.0</td>\n",
       "      <td>520.0</td>\n",
       "      <td>196</td>\n",
       "      <td>432.0</td>\n",
       "      <td>368</td>\n",
       "      <td>1</td>\n",
       "      <td>0</td>\n",
       "      <td>1979.0</td>\n",
       "      <td>13518903.0</td>\n",
       "      <td>38.0</td>\n",
       "      <td>3</td>\n",
       "      <td>31</td>\n",
       "      <td>23</td>\n",
       "    </tr>\n",
       "    <tr>\n",
       "      <th>3</th>\n",
       "      <td>11105</td>\n",
       "      <td>14288</td>\n",
       "      <td>4915.0</td>\n",
       "      <td>288.0</td>\n",
       "      <td>110.0</td>\n",
       "      <td>53</td>\n",
       "      <td>142.0</td>\n",
       "      <td>198</td>\n",
       "      <td>1</td>\n",
       "      <td>1</td>\n",
       "      <td>1985.0</td>\n",
       "      <td>13518902.0</td>\n",
       "      <td>32.0</td>\n",
       "      <td>3</td>\n",
       "      <td>31</td>\n",
       "      <td>23</td>\n",
       "    </tr>\n",
       "    <tr>\n",
       "      <th>4</th>\n",
       "      <td>955</td>\n",
       "      <td>19219</td>\n",
       "      <td>4247.0</td>\n",
       "      <td>415.0</td>\n",
       "      <td>327.0</td>\n",
       "      <td>447</td>\n",
       "      <td>331.0</td>\n",
       "      <td>366</td>\n",
       "      <td>1</td>\n",
       "      <td>0</td>\n",
       "      <td>1989.0</td>\n",
       "      <td>13518901.0</td>\n",
       "      <td>28.0</td>\n",
       "      <td>3</td>\n",
       "      <td>31</td>\n",
       "      <td>23</td>\n",
       "    </tr>\n",
       "  </tbody>\n",
       "</table>\n",
       "</div>"
      ],
      "text/plain": [
       "   start_time  end_time  bikeid  tripduration  from_station_id  \\\n",
       "0        4166     17098  5292.0         857.0             66.0   \n",
       "1       23153     30559  4408.0         236.0            199.0   \n",
       "2       23668     17061   696.0         348.0            520.0   \n",
       "3       11105     14288  4915.0         288.0            110.0   \n",
       "4         955     19219  4247.0         415.0            327.0   \n",
       "\n",
       "   from_station_name  to_station_id  to_station_name  usertype  gender  \\\n",
       "0                117          171.0              259         1       1   \n",
       "1                158           26.0              284         1       1   \n",
       "2                196          432.0              368         1       0   \n",
       "3                 53          142.0              198         1       1   \n",
       "4                447          331.0              366         1       0   \n",
       "\n",
       "   birthyear     trip_id   Age  start_month  start_day  start_hour  \n",
       "0     1989.0  13518905.0  28.0            3         31          23  \n",
       "1     1990.0  13518904.0  27.0            3         31          23  \n",
       "2     1979.0  13518903.0  38.0            3         31          23  \n",
       "3     1985.0  13518902.0  32.0            3         31          23  \n",
       "4     1989.0  13518901.0  28.0            3         31          23  "
      ]
     },
     "execution_count": 87,
     "metadata": {},
     "output_type": "execute_result"
    }
   ],
   "source": [
    "df.head()"
   ]
  },
  {
   "cell_type": "code",
   "execution_count": 88,
   "metadata": {
    "collapsed": true
   },
   "outputs": [],
   "source": [
    "x = df.drop(['tripduration','end_time','birthyear','trip_id','from_station_name','to_station_name','start_time','bikeid'], axis=1)\n",
    "y = df.tripduration"
   ]
  },
  {
   "cell_type": "code",
   "execution_count": 89,
   "metadata": {},
   "outputs": [
    {
     "data": {
      "text/html": [
       "<div>\n",
       "<style>\n",
       "    .dataframe thead tr:only-child th {\n",
       "        text-align: right;\n",
       "    }\n",
       "\n",
       "    .dataframe thead th {\n",
       "        text-align: left;\n",
       "    }\n",
       "\n",
       "    .dataframe tbody tr th {\n",
       "        vertical-align: top;\n",
       "    }\n",
       "</style>\n",
       "<table border=\"1\" class=\"dataframe\">\n",
       "  <thead>\n",
       "    <tr style=\"text-align: right;\">\n",
       "      <th></th>\n",
       "      <th>from_station_id</th>\n",
       "      <th>to_station_id</th>\n",
       "      <th>usertype</th>\n",
       "      <th>gender</th>\n",
       "      <th>Age</th>\n",
       "      <th>start_month</th>\n",
       "      <th>start_day</th>\n",
       "      <th>start_hour</th>\n",
       "    </tr>\n",
       "  </thead>\n",
       "  <tbody>\n",
       "    <tr>\n",
       "      <th>0</th>\n",
       "      <td>66.0</td>\n",
       "      <td>171.0</td>\n",
       "      <td>1</td>\n",
       "      <td>1</td>\n",
       "      <td>28.0</td>\n",
       "      <td>3</td>\n",
       "      <td>31</td>\n",
       "      <td>23</td>\n",
       "    </tr>\n",
       "    <tr>\n",
       "      <th>1</th>\n",
       "      <td>199.0</td>\n",
       "      <td>26.0</td>\n",
       "      <td>1</td>\n",
       "      <td>1</td>\n",
       "      <td>27.0</td>\n",
       "      <td>3</td>\n",
       "      <td>31</td>\n",
       "      <td>23</td>\n",
       "    </tr>\n",
       "    <tr>\n",
       "      <th>2</th>\n",
       "      <td>520.0</td>\n",
       "      <td>432.0</td>\n",
       "      <td>1</td>\n",
       "      <td>0</td>\n",
       "      <td>38.0</td>\n",
       "      <td>3</td>\n",
       "      <td>31</td>\n",
       "      <td>23</td>\n",
       "    </tr>\n",
       "    <tr>\n",
       "      <th>3</th>\n",
       "      <td>110.0</td>\n",
       "      <td>142.0</td>\n",
       "      <td>1</td>\n",
       "      <td>1</td>\n",
       "      <td>32.0</td>\n",
       "      <td>3</td>\n",
       "      <td>31</td>\n",
       "      <td>23</td>\n",
       "    </tr>\n",
       "    <tr>\n",
       "      <th>4</th>\n",
       "      <td>327.0</td>\n",
       "      <td>331.0</td>\n",
       "      <td>1</td>\n",
       "      <td>0</td>\n",
       "      <td>28.0</td>\n",
       "      <td>3</td>\n",
       "      <td>31</td>\n",
       "      <td>23</td>\n",
       "    </tr>\n",
       "  </tbody>\n",
       "</table>\n",
       "</div>"
      ],
      "text/plain": [
       "   from_station_id  to_station_id  usertype  gender   Age  start_month  \\\n",
       "0             66.0          171.0         1       1  28.0            3   \n",
       "1            199.0           26.0         1       1  27.0            3   \n",
       "2            520.0          432.0         1       0  38.0            3   \n",
       "3            110.0          142.0         1       1  32.0            3   \n",
       "4            327.0          331.0         1       0  28.0            3   \n",
       "\n",
       "   start_day  start_hour  \n",
       "0         31          23  \n",
       "1         31          23  \n",
       "2         31          23  \n",
       "3         31          23  \n",
       "4         31          23  "
      ]
     },
     "execution_count": 89,
     "metadata": {},
     "output_type": "execute_result"
    }
   ],
   "source": [
    "x.head()"
   ]
  },
  {
   "cell_type": "code",
   "execution_count": 90,
   "metadata": {
    "collapsed": true
   },
   "outputs": [],
   "source": [
    "from sklearn.ensemble import RandomForestRegressor"
   ]
  },
  {
   "cell_type": "code",
   "execution_count": 91,
   "metadata": {
    "collapsed": true
   },
   "outputs": [],
   "source": [
    "from sklearn.model_selection import train_test_split\n",
    "x_train, x_test, y_train, y_test = train_test_split(x, y, test_size=0.40, random_state=123)"
   ]
  },
  {
   "cell_type": "markdown",
   "metadata": {},
   "source": [
    "## Write CSV File"
   ]
  },
  {
   "cell_type": "code",
   "execution_count": 92,
   "metadata": {
    "collapsed": true
   },
   "outputs": [],
   "source": [
    "df.to_csv('finaldata.csv')"
   ]
  },
  {
   "cell_type": "markdown",
   "metadata": {},
   "source": [
    "## Random Forest Regressor"
   ]
  },
  {
   "cell_type": "code",
   "execution_count": 93,
   "metadata": {
    "collapsed": true
   },
   "outputs": [],
   "source": [
    "rm_model = RandomForestRegressor()"
   ]
  },
  {
   "cell_type": "code",
   "execution_count": 94,
   "metadata": {
    "collapsed": true
   },
   "outputs": [],
   "source": [
    "rm_model.fit(x_train,y_train)\n",
    "y_pred = rm_model.predict(x_test)"
   ]
  },
  {
   "cell_type": "code",
   "execution_count": 95,
   "metadata": {},
   "outputs": [
    {
     "name": "stdout",
     "output_type": "stream",
     "text": [
      "MSE:  1947893.61267\n",
      "\n",
      "MAE:  297.685804354\n"
     ]
    }
   ],
   "source": [
    "from sklearn.metrics import mean_squared_error, mean_absolute_error\n",
    "print(\"MSE: \", mean_squared_error(y_test,y_pred))\n",
    "print(\"\\nMAE: \", mean_absolute_error(y_test,y_pred))"
   ]
  },
  {
   "cell_type": "markdown",
   "metadata": {},
   "source": [
    "## Feature Importance and Selection"
   ]
  },
  {
   "cell_type": "code",
   "execution_count": 96,
   "metadata": {},
   "outputs": [
    {
     "name": "stdout",
     "output_type": "stream",
     "text": [
      "                 importance\n",
      "feature                    \n",
      "start_day              23.2\n",
      "Age                    23.1\n",
      "to_station_id          21.5\n",
      "from_station_id        17.3\n",
      "start_hour             13.7\n",
      "gender                  1.1\n",
      "usertype                0.0\n",
      "start_month             0.0 %\n"
     ]
    },
    {
     "data": {
      "text/plain": [
       "<matplotlib.axes._subplots.AxesSubplot at 0x21c3efff400>"
      ]
     },
     "execution_count": 96,
     "metadata": {},
     "output_type": "execute_result"
    },
    {
     "data": {
      "image/png": "[encoded data removed]",
      "text/plain": [
       "<matplotlib.figure.Figure at 0x21c0a2b4358>"
      ]
     },
     "metadata": {},
     "output_type": "display_data"
    }
   ],
   "source": [
    "importances = pd.DataFrame({'feature':x.columns,'importance':np.round(rm_model.feature_importances_,3)})\n",
    "importances = importances.sort_values('importance',ascending=False).set_index('feature')\n",
    " \n",
    "print(importances*100,\"%\")\n",
    "importances.plot.bar()"
   ]
  },
  {
   "cell_type": "code",
   "execution_count": 97,
   "metadata": {
    "collapsed": true
   },
   "outputs": [],
   "source": [
    "#Eliminating User Type and Start Month\n",
    "x = x.drop(['usertype','start_month'],axis=1)\n",
    "x_train, x_test, y_train, y_test = train_test_split(x, y, test_size=0.30, random_state=123)"
   ]
  },
  {
   "cell_type": "markdown",
   "metadata": {},
   "source": [
    "## OOB SCORE v/s Number of Estimators"
   ]
  },
  {
   "cell_type": "code",
   "execution_count": 98,
   "metadata": {},
   "outputs": [
    {
     "name": "stderr",
     "output_type": "stream",
     "text": [
      "[Parallel(n_jobs=1)]: Done  10 out of  10 | elapsed:    0.9s finished\n",
      "C:\\Users\\arnab\\Anaconda3\\lib\\site-packages\\sklearn\\ensemble\\forest.py:720: UserWarning: Some inputs do not have OOB scores. This probably means too few trees were used to compute any reliable oob estimates.\n",
      "  warn(\"Some inputs do not have OOB scores. \"\n",
      "[Parallel(n_jobs=1)]: Done  10 out of  10 | elapsed:    0.0s finished\n",
      "[Parallel(n_jobs=1)]: Done  20 out of  20 | elapsed:    4.2s finished\n",
      "C:\\Users\\arnab\\Anaconda3\\lib\\site-packages\\sklearn\\ensemble\\forest.py:720: UserWarning: Some inputs do not have OOB scores. This probably means too few trees were used to compute any reliable oob estimates.\n",
      "  warn(\"Some inputs do not have OOB scores. \"\n",
      "[Parallel(n_jobs=1)]: Done  20 out of  20 | elapsed:    0.0s finished\n",
      "[Parallel(n_jobs=1)]: Done  50 out of  50 | elapsed:    8.3s finished\n",
      "[Parallel(n_jobs=1)]: Done  50 out of  50 | elapsed:    0.2s finished\n",
      "[Parallel(n_jobs=1)]: Done  80 out of  80 | elapsed:    8.9s finished\n",
      "[Parallel(n_jobs=1)]: Done  80 out of  80 | elapsed:    0.2s finished\n",
      "[Parallel(n_jobs=1)]: Done 100 out of 100 | elapsed:    8.7s finished\n",
      "[Parallel(n_jobs=1)]: Done 100 out of 100 | elapsed:    0.2s finished\n",
      "[Parallel(n_jobs=1)]: Done 200 out of 200 | elapsed:   15.2s finished\n"
     ]
    },
    {
     "name": "stdout",
     "output_type": "stream",
     "text": [
      "OOB Error:  [-0.41040924861126826, -0.18621034856140861, -0.082547789184547415, -0.079124614335852383, -0.065011667564169429, -0.046967885963783651]\n",
      "\n",
      " MAE:  281.302484301\n"
     ]
    },
    {
     "name": "stderr",
     "output_type": "stream",
     "text": [
      "[Parallel(n_jobs=1)]: Done 200 out of 200 | elapsed:    0.5s finished\n"
     ]
    }
   ],
   "source": [
    "from sklearn.ensemble import RandomForestRegressor as RFR\n",
    "n_estimators = [10,20,50,80,100,200]\n",
    "oob_errors = []\n",
    "for n in n_estimators:\n",
    "    ranfor = RFR(n_estimators=n, criterion=\"mse\", min_samples_split=2, min_samples_leaf=1,\n",
    "                      max_features=\"auto\", bootstrap=True, oob_score=True, random_state=123, verbose=1)\n",
    "    ranfor.fit(x_train,y_train)\n",
    "    y_pred = ranfor.predict(x_test)\n",
    "    oob_errors.append(ranfor.oob_score_)\n",
    "    \n",
    "from sklearn.metrics import mean_squared_error,mean_absolute_error\n",
    "print(\"OOB Error: \", oob_errors)\n",
    "print(\"\\n MAE: \", mean_absolute_error(y_test,y_pred))"
   ]
  },
  {
   "cell_type": "code",
   "execution_count": 99,
   "metadata": {},
   "outputs": [
    {
     "data": {
      "image/png": "[encoded data removed]",
      "text/plain": [
       "<matplotlib.figure.Figure at 0x21c3f4bb908>"
      ]
     },
     "metadata": {},
     "output_type": "display_data"
    }
   ],
   "source": [
    "# Plot OOB vs n_estimators\n",
    "plt.plot(n_estimators,oob_errors)\n",
    "plt.title(\"OOB Score vs Number of Estimators\")\n",
    "plt.xlabel(\"Number of estimators\")\n",
    "plt.ylabel(\"OOB Score\")\n",
    "plt.show()"
   ]
  },
  {
   "cell_type": "markdown",
   "metadata": {},
   "source": [
    "## GridsearchCV for RandomForestRegressor"
   ]
  },
  {
   "cell_type": "code",
   "execution_count": 100,
   "metadata": {
    "collapsed": true
   },
   "outputs": [],
   "source": [
    "from sklearn.model_selection import GridSearchCV\n",
    "rm_grid = GridSearchCV(rm_model,\n",
    "                   {'n_estimators':[15,35,50], \n",
    "                    'max_depth':[6,8,10], \n",
    "                    'min_samples_split':[5,6,7]}, verbose=1)"
   ]
  },
  {
   "cell_type": "code",
   "execution_count": 101,
   "metadata": {},
   "outputs": [
    {
     "name": "stdout",
     "output_type": "stream",
     "text": [
      "Fitting 3 folds for each of 27 candidates, totalling 81 fits\n"
     ]
    },
    {
     "name": "stderr",
     "output_type": "stream",
     "text": [
      "[Parallel(n_jobs=1)]: Done  81 out of  81 | elapsed:  1.0min finished\n"
     ]
    },
    {
     "name": "stdout",
     "output_type": "stream",
     "text": [
      "0.106155463453\n",
      "{'max_depth': 6, 'min_samples_split': 6, 'n_estimators': 50}\n"
     ]
    }
   ],
   "source": [
    "rm_grid.fit(x_train,y_train)\n",
    "print(rm_grid.best_score_)\n",
    "print(rm_grid.best_params_)"
   ]
  },
  {
   "cell_type": "markdown",
   "metadata": {},
   "source": [
    "## Optimal RandomForestRegressor"
   ]
  },
  {
   "cell_type": "code",
   "execution_count": 102,
   "metadata": {
    "collapsed": true
   },
   "outputs": [],
   "source": [
    "rm_model = RandomForestRegressor(criterion = 'mse',\n",
    "                                 n_estimators = 50,\n",
    "                                 max_depth = 6,\n",
    "                                 min_samples_split = 6,\n",
    "                                 max_features = 'auto',\n",
    "                                 random_state = 123,\n",
    "                                 bootstrap=True, \n",
    "                                 oob_score=True)\n",
    "\n",
    "rm_model.fit(x_train,y_train)\n",
    "y_pred = rm_model.predict(x_test)"
   ]
  },
  {
   "cell_type": "code",
   "execution_count": 103,
   "metadata": {},
   "outputs": [
    {
     "name": "stdout",
     "output_type": "stream",
     "text": [
      "MSE:  1455763.6937\n",
      "\n",
      "MAE:  325.678527106\n"
     ]
    }
   ],
   "source": [
    "from sklearn.metrics import mean_squared_error, mean_absolute_error\n",
    "print(\"MSE: \", mean_squared_error(y_test,y_pred))\n",
    "print(\"\\nMAE: \", mean_absolute_error(y_test,y_pred))"
   ]
  },
  {
   "cell_type": "code",
   "execution_count": null,
   "metadata": {
    "collapsed": true
   },
   "outputs": [],
   "source": []
  }
 ],
 "metadata": {
  "kernelspec": {
   "display_name": "Python 3",
   "language": "python",
   "name": "python3"
  },
  "language_info": {
   "codemirror_mode": {
    "name": "ipython",
    "version": 3
   },
   "file_extension": ".py",
   "mimetype": "text/x-python",
   "name": "python",
   "nbconvert_exporter": "python",
   "pygments_lexer": "ipython3",
   "version": "3.6.1"
  }
 },
 "nbformat": 4,
 "nbformat_minor": 2
}
